{
 "cells": [
  {
   "cell_type": "code",
   "execution_count": null,
   "id": "4335ab27",
   "metadata": {},
   "outputs": [],
   "source": [
    "# 📦 1. Import Libraries\n",
    "import pandas as pd\n",
    "import joblib\n",
    "from sklearn.preprocessing import StandardScaler"
   ]
  }
 ],
 "metadata": {
  "language_info": {
   "name": "python"
  }
 },
 "nbformat": 4,
 "nbformat_minor": 5
}
