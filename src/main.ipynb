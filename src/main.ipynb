{
 "cells": [
  {
   "cell_type": "code",
   "execution_count": 7,
   "id": "4335ab27",
   "metadata": {},
   "outputs": [],
   "source": [
    "# 📦 1. Import Libraries\n",
    "import pandas as pd\n",
    "import joblib\n",
    "from sklearn.preprocessing import StandardScaler"
   ]
  },
  {
   "cell_type": "code",
   "execution_count": 8,
   "id": "d3a2276b",
   "metadata": {},
   "outputs": [],
   "source": [
    "# 📁 2. Load Saved Models\n",
    "rf_model = joblib.load('../models/rf_model.pkl')\n",
    "gb_model = joblib.load('../models/gb_model.pkl')\n",
    "voting_model = joblib.load('../models/voting_model.pkl')\n",
    "scaler = joblib.load('../models/scaler.pkl')  # If you saved the scaler"
   ]
  },
  {
   "cell_type": "code",
   "execution_count": null,
   "id": "f96267ea",
   "metadata": {},
   "outputs": [],
   "source": [
    "# 🧩 3. Prepare New Employee Data\n",
    "# Replace values with actual inputs or use a form later\n",
    "new_data = pd.DataFrame([{\n",
    "    'work_year': 2025,\n",
    "    'experience_level': 6,       # Encoded value\n",
    "    'employment_type': 1,        # Encoded value\n",
    "    'job_title': 15,             # Encoded value\n",
    "    'employee_residence': 3,     # Encoded value\n",
    "    'remote_ratio': 100,\n",
    "    'company_location': 3,       # Encoded value\n",
    "    'company_size': 1            # Encoded value\n",
    "}])"
   ]
  },
  {
   "cell_type": "code",
   "execution_count": 10,
   "id": "12af37cb",
   "metadata": {},
   "outputs": [],
   "source": [
    "# 🧼 4. Apply Scaling to Numerical Features\n",
    "new_data[['work_year', 'remote_ratio']] = scaler.transform(new_data[['work_year', 'remote_ratio']])"
   ]
  },
  {
   "cell_type": "code",
   "execution_count": 12,
   "id": "e94b676b",
   "metadata": {},
   "outputs": [
    {
     "name": "stdout",
     "output_type": "stream",
     "text": [
      "Random Forest Prediction: $86279.05\n",
      "Gradient Boosting Prediction: $83628.72\n",
      "Voting Regressor Prediction: $84953.89\n"
     ]
    }
   ],
   "source": [
    "# 📈 5. Predict Salary Using Each Model\n",
    "rf_pred = rf_model.predict(new_data)[0]\n",
    "gb_pred = gb_model.predict(new_data)[0]\n",
    "voting_pred = voting_model.predict(new_data)[0]\n",
    "\n",
    "print(f\"Random Forest Prediction: ${rf_pred:.2f}\")\n",
    "print(f\"Gradient Boosting Prediction: ${gb_pred:.2f}\")\n",
    "print(f\"Voting Regressor Prediction: ${voting_pred:.2f}\")"
   ]
  }
 ],
 "metadata": {
  "kernelspec": {
   "display_name": "Python 3",
   "language": "python",
   "name": "python3"
  },
  "language_info": {
   "codemirror_mode": {
    "name": "ipython",
    "version": 3
   },
   "file_extension": ".py",
   "mimetype": "text/x-python",
   "name": "python",
   "nbconvert_exporter": "python",
   "pygments_lexer": "ipython3",
   "version": "3.13.7"
  }
 },
 "nbformat": 4,
 "nbformat_minor": 5
}
